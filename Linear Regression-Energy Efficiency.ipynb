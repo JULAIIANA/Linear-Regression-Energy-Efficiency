{
 "cells": [
  {
   "cell_type": "code",
   "execution_count": 130,
   "metadata": {
    "collapsed": true
   },
   "outputs": [],
   "source": [
    "import pandas as pd\n",
    "import matplotlib.pyplot as plt\n",
    "from sklearn.metrics import r2_score\n",
    "\n",
    "# Make plots bigger.\n",
    "plt.rcParams['figure.figsize'] = (14,6)\n",
    "\n",
    "%matplotlib inline"
   ]
  },
  {
   "cell_type": "code",
   "execution_count": 131,
   "metadata": {},
   "outputs": [
    {
     "data": {
      "text/html": [
       "<div>\n",
       "<style>\n",
       "    .dataframe thead tr:only-child th {\n",
       "        text-align: right;\n",
       "    }\n",
       "\n",
       "    .dataframe thead th {\n",
       "        text-align: left;\n",
       "    }\n",
       "\n",
       "    .dataframe tbody tr th {\n",
       "        vertical-align: top;\n",
       "    }\n",
       "</style>\n",
       "<table border=\"1\" class=\"dataframe\">\n",
       "  <thead>\n",
       "    <tr style=\"text-align: right;\">\n",
       "      <th></th>\n",
       "      <th>relative_compactness</th>\n",
       "      <th>surface_area</th>\n",
       "      <th>wall_area</th>\n",
       "      <th>roof_area</th>\n",
       "      <th>overall_height</th>\n",
       "      <th>orientation</th>\n",
       "      <th>glazing_area</th>\n",
       "      <th>glazing_area_distribution</th>\n",
       "      <th>heating_load</th>\n",
       "      <th>cooling_load</th>\n",
       "    </tr>\n",
       "  </thead>\n",
       "  <tbody>\n",
       "    <tr>\n",
       "      <th>0</th>\n",
       "      <td>0.98</td>\n",
       "      <td>514.5</td>\n",
       "      <td>294.0</td>\n",
       "      <td>110.25</td>\n",
       "      <td>7.0</td>\n",
       "      <td>2</td>\n",
       "      <td>0.0</td>\n",
       "      <td>0</td>\n",
       "      <td>15.55</td>\n",
       "      <td>21.33</td>\n",
       "    </tr>\n",
       "    <tr>\n",
       "      <th>1</th>\n",
       "      <td>0.98</td>\n",
       "      <td>514.5</td>\n",
       "      <td>294.0</td>\n",
       "      <td>110.25</td>\n",
       "      <td>7.0</td>\n",
       "      <td>3</td>\n",
       "      <td>0.0</td>\n",
       "      <td>0</td>\n",
       "      <td>15.55</td>\n",
       "      <td>21.33</td>\n",
       "    </tr>\n",
       "    <tr>\n",
       "      <th>2</th>\n",
       "      <td>0.98</td>\n",
       "      <td>514.5</td>\n",
       "      <td>294.0</td>\n",
       "      <td>110.25</td>\n",
       "      <td>7.0</td>\n",
       "      <td>4</td>\n",
       "      <td>0.0</td>\n",
       "      <td>0</td>\n",
       "      <td>15.55</td>\n",
       "      <td>21.33</td>\n",
       "    </tr>\n",
       "    <tr>\n",
       "      <th>3</th>\n",
       "      <td>0.98</td>\n",
       "      <td>514.5</td>\n",
       "      <td>294.0</td>\n",
       "      <td>110.25</td>\n",
       "      <td>7.0</td>\n",
       "      <td>5</td>\n",
       "      <td>0.0</td>\n",
       "      <td>0</td>\n",
       "      <td>15.55</td>\n",
       "      <td>21.33</td>\n",
       "    </tr>\n",
       "    <tr>\n",
       "      <th>4</th>\n",
       "      <td>0.90</td>\n",
       "      <td>563.5</td>\n",
       "      <td>318.5</td>\n",
       "      <td>122.50</td>\n",
       "      <td>7.0</td>\n",
       "      <td>2</td>\n",
       "      <td>0.0</td>\n",
       "      <td>0</td>\n",
       "      <td>20.84</td>\n",
       "      <td>28.28</td>\n",
       "    </tr>\n",
       "    <tr>\n",
       "      <th>5</th>\n",
       "      <td>0.90</td>\n",
       "      <td>563.5</td>\n",
       "      <td>318.5</td>\n",
       "      <td>122.50</td>\n",
       "      <td>7.0</td>\n",
       "      <td>3</td>\n",
       "      <td>0.0</td>\n",
       "      <td>0</td>\n",
       "      <td>21.46</td>\n",
       "      <td>25.38</td>\n",
       "    </tr>\n",
       "    <tr>\n",
       "      <th>6</th>\n",
       "      <td>0.90</td>\n",
       "      <td>563.5</td>\n",
       "      <td>318.5</td>\n",
       "      <td>122.50</td>\n",
       "      <td>7.0</td>\n",
       "      <td>4</td>\n",
       "      <td>0.0</td>\n",
       "      <td>0</td>\n",
       "      <td>20.71</td>\n",
       "      <td>25.16</td>\n",
       "    </tr>\n",
       "    <tr>\n",
       "      <th>7</th>\n",
       "      <td>0.90</td>\n",
       "      <td>563.5</td>\n",
       "      <td>318.5</td>\n",
       "      <td>122.50</td>\n",
       "      <td>7.0</td>\n",
       "      <td>5</td>\n",
       "      <td>0.0</td>\n",
       "      <td>0</td>\n",
       "      <td>19.68</td>\n",
       "      <td>29.60</td>\n",
       "    </tr>\n",
       "    <tr>\n",
       "      <th>8</th>\n",
       "      <td>0.86</td>\n",
       "      <td>588.0</td>\n",
       "      <td>294.0</td>\n",
       "      <td>147.00</td>\n",
       "      <td>7.0</td>\n",
       "      <td>2</td>\n",
       "      <td>0.0</td>\n",
       "      <td>0</td>\n",
       "      <td>19.50</td>\n",
       "      <td>27.30</td>\n",
       "    </tr>\n",
       "    <tr>\n",
       "      <th>9</th>\n",
       "      <td>0.86</td>\n",
       "      <td>588.0</td>\n",
       "      <td>294.0</td>\n",
       "      <td>147.00</td>\n",
       "      <td>7.0</td>\n",
       "      <td>3</td>\n",
       "      <td>0.0</td>\n",
       "      <td>0</td>\n",
       "      <td>19.95</td>\n",
       "      <td>21.97</td>\n",
       "    </tr>\n",
       "  </tbody>\n",
       "</table>\n",
       "</div>"
      ],
      "text/plain": [
       "   relative_compactness  surface_area  wall_area  roof_area  overall_height  \\\n",
       "0                  0.98         514.5      294.0     110.25             7.0   \n",
       "1                  0.98         514.5      294.0     110.25             7.0   \n",
       "2                  0.98         514.5      294.0     110.25             7.0   \n",
       "3                  0.98         514.5      294.0     110.25             7.0   \n",
       "4                  0.90         563.5      318.5     122.50             7.0   \n",
       "5                  0.90         563.5      318.5     122.50             7.0   \n",
       "6                  0.90         563.5      318.5     122.50             7.0   \n",
       "7                  0.90         563.5      318.5     122.50             7.0   \n",
       "8                  0.86         588.0      294.0     147.00             7.0   \n",
       "9                  0.86         588.0      294.0     147.00             7.0   \n",
       "\n",
       "   orientation  glazing_area  glazing_area_distribution  heating_load  \\\n",
       "0            2           0.0                          0         15.55   \n",
       "1            3           0.0                          0         15.55   \n",
       "2            4           0.0                          0         15.55   \n",
       "3            5           0.0                          0         15.55   \n",
       "4            2           0.0                          0         20.84   \n",
       "5            3           0.0                          0         21.46   \n",
       "6            4           0.0                          0         20.71   \n",
       "7            5           0.0                          0         19.68   \n",
       "8            2           0.0                          0         19.50   \n",
       "9            3           0.0                          0         19.95   \n",
       "\n",
       "   cooling_load  \n",
       "0         21.33  \n",
       "1         21.33  \n",
       "2         21.33  \n",
       "3         21.33  \n",
       "4         28.28  \n",
       "5         25.38  \n",
       "6         25.16  \n",
       "7         29.60  \n",
       "8         27.30  \n",
       "9         21.97  "
      ]
     },
     "execution_count": 131,
     "metadata": {},
     "output_type": "execute_result"
    }
   ],
   "source": [
    "\"\"\"\n",
    "\n",
    "PROBLEM STATEMENT:\n",
    "\n",
    "How should we design buildings (with respect to heating load) in the future?\n",
    "\n",
    "Additional questions:\n",
    "\n",
    "    1. Is there a relationship between building features and heating load?\n",
    "    2. How strong is that relationship?\n",
    "    3. Which are the strongest contributing features to heating load?\n",
    "    4. Can heating load be predicted given a particular building design?\n",
    "\n",
    "\"\"\"\n",
    "\n",
    "##################################################################################################\n",
    "##################################################################################################\n",
    "\n",
    "\"\"\"\n",
    "The dataset contains eight features (relative _compactness\tglazing_area_distribution) \n",
    "and two outcomes (heating_load & cooling_load).\n",
    "The aim is to use the eight features to predict, in this case, one of the two responses (Heating Load).\n",
    "\"\"\" \n",
    "\n",
    "df_energy_efficiency = pd.read_excel(\"../../../data/RCC/ENB2012_data.xlsx\", index_col=None)\n",
    "df_energy_efficiency.columns = [\"relative_compactness\", \"surface_area\", \"wall_area\", \"roof_area\", \"overall_height\", \"orientation\", \"glazing_area\", \"glazing_area_distribution\", \"heating_load\", \"cooling_load\"]\n",
    "df_energy_efficiency.head(10)"
   ]
  },
  {
   "cell_type": "code",
   "execution_count": 132,
   "metadata": {},
   "outputs": [
    {
     "data": {
      "text/plain": [
       "(768, 10)"
      ]
     },
     "execution_count": 132,
     "metadata": {},
     "output_type": "execute_result"
    }
   ],
   "source": [
    "df_energy_efficiency.shape"
   ]
  },
  {
   "cell_type": "code",
   "execution_count": 133,
   "metadata": {},
   "outputs": [
    {
     "data": {
      "text/plain": [
       "<matplotlib.axes._subplots.AxesSubplot at 0x2bf9df00f98>"
      ]
     },
     "execution_count": 133,
     "metadata": {},
     "output_type": "execute_result"
    },
    {
     "data": {
      "image/png": "[encoded data removed]",
      "text/plain": [
       "<matplotlib.figure.Figure at 0x2bf9c73a978>"
      ]
     },
     "metadata": {},
     "output_type": "display_data"
    }
   ],
   "source": [
    "\"\"\"Visualize the relationship between the features and the responses.\"\"\"\n",
    "\n",
    "fig, axs = plt.subplots(1, 8, sharey=True)\n",
    "df_energy_efficiency.plot(kind='scatter', x='relative_compactness', y='heating_load', ax=axs[0], figsize=(14, 6))\n",
    "df_energy_efficiency.plot(kind='scatter', x='surface_area', y='heating_load', ax=axs[1])\n",
    "df_energy_efficiency.plot(kind='scatter', x='wall_area', y='heating_load', ax=axs[2])\n",
    "df_energy_efficiency.plot(kind='scatter', x='roof_area', y='heating_load', ax=axs[3])\n",
    "df_energy_efficiency.plot(kind='scatter', x='overall_height', y='heating_load', ax=axs[4])\n",
    "df_energy_efficiency.plot(kind='scatter', x='orientation', y='heating_load', ax=axs[5])\n",
    "df_energy_efficiency.plot(kind='scatter', x='glazing_area', y='heating_load', ax=axs[6])\n",
    "df_energy_efficiency.plot(kind='scatter', x='glazing_area_distribution', y='heating_load', ax=axs[7])"
   ]
  },
  {
   "cell_type": "code",
   "execution_count": 135,
   "metadata": {},
   "outputs": [
    {
     "data": {
      "text/plain": [
       "'FINDINGS: an increase in relative compactness leads to a decrease in heating load.'"
      ]
     },
     "execution_count": 135,
     "metadata": {},
     "output_type": "execute_result"
    }
   ],
   "source": [
    "\"\"\"Estimate Model Coefficients for Relative Compactness\"\"\"\n",
    "\n",
    "import statsmodels.formula.api as smf\n",
    "\n",
    "# Create fitted model.\n",
    "lm = smf.ols(formula='heating_load ~ relative_compactness', data=df_energy_efficiency).fit()\n",
    "\n",
    "# Get coefficients.\n",
    "lm.params\n",
    "\n",
    "\"\"\"FINDINGS: an increase in relative compactness leads to a decrease in heating load.\"\"\""
   ]
  },
  {
   "cell_type": "code",
   "execution_count": 136,
   "metadata": {},
   "outputs": [
    {
     "data": {
      "text/plain": [
       "570.5375160000001"
      ]
     },
     "execution_count": 136,
     "metadata": {},
     "output_type": "execute_result"
    }
   ],
   "source": [
    "\"\"\"\n",
    "FINDINGS:\n",
    "\n",
    "    An decrease in Relative Compactness is associated \n",
    "    with a 59.359053 \"unit\" increase in Heating Load.\n",
    "\n",
    "######################################################\n",
    "\n",
    "Use model to make predictions (manually).\n",
    "A 10% increase in overall relative compactness \n",
    "translates to a decrease in heating load.\n",
    "\"\"\"\n",
    "\n",
    "-23.053014+59.359053*10"
   ]
  },
  {
   "cell_type": "code",
   "execution_count": 137,
   "metadata": {},
   "outputs": [
    {
     "data": {
      "text/html": [
       "<div>\n",
       "<style>\n",
       "    .dataframe thead tr:only-child th {\n",
       "        text-align: right;\n",
       "    }\n",
       "\n",
       "    .dataframe thead th {\n",
       "        text-align: left;\n",
       "    }\n",
       "\n",
       "    .dataframe tbody tr th {\n",
       "        vertical-align: top;\n",
       "    }\n",
       "</style>\n",
       "<table border=\"1\" class=\"dataframe\">\n",
       "  <thead>\n",
       "    <tr style=\"text-align: right;\">\n",
       "      <th></th>\n",
       "      <th>relative_compactness</th>\n",
       "    </tr>\n",
       "  </thead>\n",
       "  <tbody>\n",
       "    <tr>\n",
       "      <th>0</th>\n",
       "      <td>10</td>\n",
       "    </tr>\n",
       "  </tbody>\n",
       "</table>\n",
       "</div>"
      ],
      "text/plain": [
       "   relative_compactness\n",
       "0                    10"
      ]
     },
     "execution_count": 137,
     "metadata": {},
     "output_type": "execute_result"
    }
   ],
   "source": [
    "# Create A DataFrame\n",
    "X_new = pd.DataFrame({'relative_compactness': [10]})\n",
    "X_new.head()"
   ]
  },
  {
   "cell_type": "code",
   "execution_count": 138,
   "metadata": {},
   "outputs": [
    {
     "data": {
      "text/plain": [
       "0    570.537512\n",
       "dtype: float64"
      ]
     },
     "execution_count": 138,
     "metadata": {},
     "output_type": "execute_result"
    }
   ],
   "source": [
    "\"\"\"\n",
    "Use model to make predictions on a new value.\n",
    "The model works; compare to manual prediction above.\n",
    "\"\"\"\n",
    "\n",
    "lm.predict(X_new)"
   ]
  },
  {
   "cell_type": "code",
   "execution_count": 139,
   "metadata": {},
   "outputs": [
    {
     "data": {
      "text/html": [
       "<div>\n",
       "<style>\n",
       "    .dataframe thead tr:only-child th {\n",
       "        text-align: right;\n",
       "    }\n",
       "\n",
       "    .dataframe thead th {\n",
       "        text-align: left;\n",
       "    }\n",
       "\n",
       "    .dataframe tbody tr th {\n",
       "        vertical-align: top;\n",
       "    }\n",
       "</style>\n",
       "<table border=\"1\" class=\"dataframe\">\n",
       "  <thead>\n",
       "    <tr style=\"text-align: right;\">\n",
       "      <th></th>\n",
       "      <th>relative_compactness</th>\n",
       "    </tr>\n",
       "  </thead>\n",
       "  <tbody>\n",
       "    <tr>\n",
       "      <th>0</th>\n",
       "      <td>0.62</td>\n",
       "    </tr>\n",
       "    <tr>\n",
       "      <th>1</th>\n",
       "      <td>0.98</td>\n",
       "    </tr>\n",
       "  </tbody>\n",
       "</table>\n",
       "</div>"
      ],
      "text/plain": [
       "   relative_compactness\n",
       "0                  0.62\n",
       "1                  0.98"
      ]
     },
     "execution_count": 139,
     "metadata": {},
     "output_type": "execute_result"
    }
   ],
   "source": [
    "\"\"\"\n",
    "Plotting Least Squares\n",
    "\n",
    "Create a DataFrame with the minimum and maximum relative compactness values.\n",
    "\"\"\"\n",
    "\n",
    "X_new = pd.DataFrame({'relative_compactness': [df_energy_efficiency.relative_compactness.min(), df_energy_efficiency.relative_compactness.max()]})\n",
    "X_new.head()"
   ]
  },
  {
   "cell_type": "code",
   "execution_count": 140,
   "metadata": {},
   "outputs": [
    {
     "data": {
      "text/plain": [
       "0    13.749599\n",
       "1    35.118858\n",
       "dtype: float64"
      ]
     },
     "execution_count": 140,
     "metadata": {},
     "output_type": "execute_result"
    }
   ],
   "source": [
    "\"\"\"Make and store predictions of min. & max. values.\"\"\"\n",
    "\n",
    "presage = lm.predict(X_new)\n",
    "presage"
   ]
  },
  {
   "cell_type": "code",
   "execution_count": 141,
   "metadata": {},
   "outputs": [
    {
     "data": {
      "text/plain": [
       "[<matplotlib.lines.Line2D at 0x2bf9b58a518>]"
      ]
     },
     "execution_count": 141,
     "metadata": {},
     "output_type": "execute_result"
    },
    {
     "data": {
      "image/png": "[encoded data removed]",
      "text/plain": [
       "<matplotlib.figure.Figure at 0x2bf9c234128>"
      ]
     },
     "metadata": {},
     "output_type": "display_data"
    }
   ],
   "source": [
    "\"\"\"Plot the observed data then plot the least squares line.\"\"\"\n",
    "\n",
    "df_energy_efficiency.plot(kind='scatter', x='relative_compactness', y='heating_load')\n",
    "plt.plot(X_new, presage, c='red', linewidth=2)"
   ]
  },
  {
   "cell_type": "code",
   "execution_count": 142,
   "metadata": {},
   "outputs": [
    {
     "data": {
      "text/html": [
       "<div>\n",
       "<style>\n",
       "    .dataframe thead tr:only-child th {\n",
       "        text-align: right;\n",
       "    }\n",
       "\n",
       "    .dataframe thead th {\n",
       "        text-align: left;\n",
       "    }\n",
       "\n",
       "    .dataframe tbody tr th {\n",
       "        vertical-align: top;\n",
       "    }\n",
       "</style>\n",
       "<table border=\"1\" class=\"dataframe\">\n",
       "  <thead>\n",
       "    <tr style=\"text-align: right;\">\n",
       "      <th></th>\n",
       "      <th>0</th>\n",
       "      <th>1</th>\n",
       "    </tr>\n",
       "  </thead>\n",
       "  <tbody>\n",
       "    <tr>\n",
       "      <th>Intercept</th>\n",
       "      <td>-27.138867</td>\n",
       "      <td>-18.967161</td>\n",
       "    </tr>\n",
       "    <tr>\n",
       "      <th>relative_compactness</th>\n",
       "      <td>54.062678</td>\n",
       "      <td>64.655427</td>\n",
       "    </tr>\n",
       "  </tbody>\n",
       "</table>\n",
       "</div>"
      ],
      "text/plain": [
       "                              0          1\n",
       "Intercept            -27.138867 -18.967161\n",
       "relative_compactness  54.062678  64.655427"
      ]
     },
     "execution_count": 142,
     "metadata": {},
     "output_type": "execute_result"
    }
   ],
   "source": [
    "\"\"\"Confidence Intervals for the Model Coefficients\"\"\"\n",
    "\n",
    "\"\"\"\n",
    "Statsmodels calculates 95% confidence intervals for our model coefficients, interpreted thus: \n",
    "for every 100 times the population is sampled, approximately 95 (confidence intervals) would \n",
    "contain the \"true\" coefficient.\n",
    "\"\"\"\n",
    "\n",
    "lm.conf_int()"
   ]
  },
  {
   "cell_type": "code",
   "execution_count": 143,
   "metadata": {},
   "outputs": [
    {
     "data": {
      "text/plain": [
       "Intercept               1.503456e-26\n",
       "relative_compactness    1.591576e-83\n",
       "dtype: float64"
      ]
     },
     "execution_count": 143,
     "metadata": {},
     "output_type": "execute_result"
    }
   ],
   "source": [
    "\"\"\"Null Hypothesis Testing & Model Coefficients p-values\"\"\"\n",
    "\n",
    "\"\"\"\n",
    "If the 95% confidence interval includes zero, the p-value for that coefficient \n",
    "will be greater than 0.05. If the 95% confidence interval does not include zero, \n",
    "the p-value will be less than 0.05. Thus, a p-value less than 0.05 is one way to \n",
    "decide whether there is likely a relationship between the feature and the response.\n",
    "\n",
    "FINDINGS:\n",
    "    \n",
    "    1. The p-value for Relative Compactness is less than 0.05; ergo, there is a \n",
    "    correlation between Relative Compactness and Heating Load.\"\"\"\n",
    "\n",
    "lm.pvalues"
   ]
  },
  {
   "cell_type": "code",
   "execution_count": 144,
   "metadata": {},
   "outputs": [
    {
     "data": {
      "text/plain": [
       "0.38722236193215909"
      ]
     },
     "execution_count": 144,
     "metadata": {},
     "output_type": "execute_result"
    }
   ],
   "source": [
    "\"\"\"Get the R-squared value for the model.\"\"\"\n",
    "\n",
    "lm.rsquared"
   ]
  },
  {
   "cell_type": "code",
   "execution_count": 145,
   "metadata": {},
   "outputs": [
    {
     "data": {
      "text/plain": [
       "Intercept                    84.013418\n",
       "relative_compactness        -64.773432\n",
       "surface_area                 -0.062606\n",
       "wall_area                     0.036129\n",
       "roof_area                    -0.049368\n",
       "overall_height                4.169954\n",
       "orientation                  -0.023330\n",
       "glazing_area                 19.932736\n",
       "glazing_area_distribution     0.203777\n",
       "dtype: float64"
      ]
     },
     "execution_count": 145,
     "metadata": {},
     "output_type": "execute_result"
    }
   ],
   "source": [
    "\"\"\"Use multiple linear regression to make predictions.\"\"\"\n",
    "\n",
    "# create a fitted model with all three features\n",
    "lm = smf.ols(formula='heating_load ~ relative_compactness + surface_area + wall_area + roof_area + overall_height + orientation + glazing_area + glazing_area_distribution', data=df_energy_efficiency).fit()\n",
    "\n",
    "# print the coefficients\n",
    "lm.params"
   ]
  },
  {
   "cell_type": "code",
   "execution_count": 146,
   "metadata": {},
   "outputs": [
    {
     "data": {
      "text/html": [
       "<table class=\"simpletable\">\n",
       "<caption>OLS Regression Results</caption>\n",
       "<tr>\n",
       "  <th>Dep. Variable:</th>      <td>heating_load</td>   <th>  R-squared:         </th> <td>   0.916</td>\n",
       "</tr>\n",
       "<tr>\n",
       "  <th>Model:</th>                   <td>OLS</td>       <th>  Adj. R-squared:    </th> <td>   0.915</td>\n",
       "</tr>\n",
       "<tr>\n",
       "  <th>Method:</th>             <td>Least Squares</td>  <th>  F-statistic:       </th> <td>   1187.</td>\n",
       "</tr>\n",
       "<tr>\n",
       "  <th>Date:</th>             <td>Fri, 14 Jul 2017</td> <th>  Prob (F-statistic):</th>  <td>  0.00</td> \n",
       "</tr>\n",
       "<tr>\n",
       "  <th>Time:</th>                 <td>16:53:55</td>     <th>  Log-Likelihood:    </th> <td> -1912.5</td>\n",
       "</tr>\n",
       "<tr>\n",
       "  <th>No. Observations:</th>      <td>   768</td>      <th>  AIC:               </th> <td>   3841.</td>\n",
       "</tr>\n",
       "<tr>\n",
       "  <th>Df Residuals:</th>          <td>   760</td>      <th>  BIC:               </th> <td>   3878.</td>\n",
       "</tr>\n",
       "<tr>\n",
       "  <th>Df Model:</th>              <td>     7</td>      <th>                     </th>     <td> </td>   \n",
       "</tr>\n",
       "<tr>\n",
       "  <th>Covariance Type:</th>      <td>nonrobust</td>    <th>                     </th>     <td> </td>   \n",
       "</tr>\n",
       "</table>\n",
       "<table class=\"simpletable\">\n",
       "<tr>\n",
       "              <td></td>                 <th>coef</th>     <th>std err</th>      <th>t</th>      <th>P>|t|</th>  <th>[0.025</th>    <th>0.975]</th>  \n",
       "</tr>\n",
       "<tr>\n",
       "  <th>Intercept</th>                 <td>   84.0134</td> <td>   19.034</td> <td>    4.414</td> <td> 0.000</td> <td>   46.649</td> <td>  121.378</td>\n",
       "</tr>\n",
       "<tr>\n",
       "  <th>relative_compactness</th>      <td>  -64.7734</td> <td>   10.289</td> <td>   -6.295</td> <td> 0.000</td> <td>  -84.973</td> <td>  -44.574</td>\n",
       "</tr>\n",
       "<tr>\n",
       "  <th>surface_area</th>              <td>   -0.0626</td> <td>    0.013</td> <td>   -4.670</td> <td> 0.000</td> <td>   -0.089</td> <td>   -0.036</td>\n",
       "</tr>\n",
       "<tr>\n",
       "  <th>wall_area</th>                 <td>    0.0361</td> <td>    0.004</td> <td>    9.386</td> <td> 0.000</td> <td>    0.029</td> <td>    0.044</td>\n",
       "</tr>\n",
       "<tr>\n",
       "  <th>roof_area</th>                 <td>   -0.0494</td> <td>    0.008</td> <td>   -6.569</td> <td> 0.000</td> <td>   -0.064</td> <td>   -0.035</td>\n",
       "</tr>\n",
       "<tr>\n",
       "  <th>overall_height</th>            <td>    4.1700</td> <td>    0.338</td> <td>   12.338</td> <td> 0.000</td> <td>    3.506</td> <td>    4.833</td>\n",
       "</tr>\n",
       "<tr>\n",
       "  <th>orientation</th>               <td>   -0.0233</td> <td>    0.095</td> <td>   -0.246</td> <td> 0.805</td> <td>   -0.209</td> <td>    0.163</td>\n",
       "</tr>\n",
       "<tr>\n",
       "  <th>glazing_area</th>              <td>   19.9327</td> <td>    0.814</td> <td>   24.488</td> <td> 0.000</td> <td>   18.335</td> <td>   21.531</td>\n",
       "</tr>\n",
       "<tr>\n",
       "  <th>glazing_area_distribution</th> <td>    0.2038</td> <td>    0.070</td> <td>    2.915</td> <td> 0.004</td> <td>    0.067</td> <td>    0.341</td>\n",
       "</tr>\n",
       "</table>\n",
       "<table class=\"simpletable\">\n",
       "<tr>\n",
       "  <th>Omnibus:</th>       <td>18.647</td> <th>  Durbin-Watson:     </th> <td>   0.654</td>\n",
       "</tr>\n",
       "<tr>\n",
       "  <th>Prob(Omnibus):</th> <td> 0.000</td> <th>  Jarque-Bera (JB):  </th> <td>  37.707</td>\n",
       "</tr>\n",
       "<tr>\n",
       "  <th>Skew:</th>          <td> 0.044</td> <th>  Prob(JB):          </th> <td>6.49e-09</td>\n",
       "</tr>\n",
       "<tr>\n",
       "  <th>Kurtosis:</th>      <td> 4.082</td> <th>  Cond. No.          </th> <td>5.54e+15</td>\n",
       "</tr>\n",
       "</table>"
      ],
      "text/plain": [
       "<class 'statsmodels.iolib.summary.Summary'>\n",
       "\"\"\"\n",
       "                            OLS Regression Results                            \n",
       "==============================================================================\n",
       "Dep. Variable:           heating_load   R-squared:                       0.916\n",
       "Model:                            OLS   Adj. R-squared:                  0.915\n",
       "Method:                 Least Squares   F-statistic:                     1187.\n",
       "Date:                Fri, 14 Jul 2017   Prob (F-statistic):               0.00\n",
       "Time:                        16:53:55   Log-Likelihood:                -1912.5\n",
       "No. Observations:                 768   AIC:                             3841.\n",
       "Df Residuals:                     760   BIC:                             3878.\n",
       "Df Model:                           7                                         \n",
       "Covariance Type:            nonrobust                                         \n",
       "=============================================================================================\n",
       "                                coef    std err          t      P>|t|      [0.025      0.975]\n",
       "---------------------------------------------------------------------------------------------\n",
       "Intercept                    84.0134     19.034      4.414      0.000      46.649     121.378\n",
       "relative_compactness        -64.7734     10.289     -6.295      0.000     -84.973     -44.574\n",
       "surface_area                 -0.0626      0.013     -4.670      0.000      -0.089      -0.036\n",
       "wall_area                     0.0361      0.004      9.386      0.000       0.029       0.044\n",
       "roof_area                    -0.0494      0.008     -6.569      0.000      -0.064      -0.035\n",
       "overall_height                4.1700      0.338     12.338      0.000       3.506       4.833\n",
       "orientation                  -0.0233      0.095     -0.246      0.805      -0.209       0.163\n",
       "glazing_area                 19.9327      0.814     24.488      0.000      18.335      21.531\n",
       "glazing_area_distribution     0.2038      0.070      2.915      0.004       0.067       0.341\n",
       "==============================================================================\n",
       "Omnibus:                       18.647   Durbin-Watson:                   0.654\n",
       "Prob(Omnibus):                  0.000   Jarque-Bera (JB):               37.707\n",
       "Skew:                           0.044   Prob(JB):                     6.49e-09\n",
       "Kurtosis:                       4.082   Cond. No.                     5.54e+15\n",
       "==============================================================================\n",
       "\n",
       "Warnings:\n",
       "[1] Standard Errors assume that the covariance matrix of the errors is correctly specified.\n",
       "[2] The smallest eigenvalue is 1.48e-23. This might indicate that there are\n",
       "strong multicollinearity problems or that the design matrix is singular.\n",
       "\"\"\""
      ]
     },
     "execution_count": 146,
     "metadata": {},
     "output_type": "execute_result"
    }
   ],
   "source": [
    "\"\"\"\n",
    "FINDINGS: \n",
    "\n",
    "    A given amount of the additional features (surface are\tglazing area dist.), \n",
    "    results in a decrease in heating load (-64.7734320000000)0.0\n",
    "\"\"\"\n",
    "###############################################################################\n",
    "\"\"\"Summarize Fitted Model\"\"\"\n",
    "\n",
    "lm.summary()"
   ]
  },
  {
   "cell_type": "code",
   "execution_count": 147,
   "metadata": {},
   "outputs": [
    {
     "data": {
      "text/plain": [
       "'\\nCONCLUSIONS:\\n\\n    \\n    1. Orientation has no significant p-value, in contrast to the other features \\n    (reject the null hypothesis for those features with significant p-values), and fail to \\n    reject the null hypothesis for Orientation.\\n    2. Those features with significant p-values show a direct correlation with Heating Load; \\n    Orientation has negative association. (However, this is irrelevant since we have failed \\n    to reject the null hypothesis for Newspaper.)\\n    3. This model has a higher R-squared (0.916) than the previous model, indicating that \\n    this model provides a better fit to the data than a model that only includes Relative Compactness.\\n\\n'"
      ]
     },
     "execution_count": 147,
     "metadata": {},
     "output_type": "execute_result"
    }
   ],
   "source": [
    "\"\"\"\n",
    "CONCLUSIONS:\n",
    "\n",
    "    \n",
    "    1. Orientation has no significant p-value, in contrast to the other features \n",
    "    (reject the null hypothesis for those features with significant p-values), and fail to \n",
    "    reject the null hypothesis for Orientation.\n",
    "    2. Those features with significant p-values show a direct correlation with Heating Load; \n",
    "    Orientation has negative association. (However, this is irrelevant since we have failed \n",
    "    to reject the null hypothesis for Newspaper.)\n",
    "    3. This model has a higher R-squared (0.916) than the previous model, indicating that \n",
    "    this model provides a better fit to the data than a model that only includes Relative Compactness.\n",
    "\n",
    "#######################################################################################################\n",
    "\n",
    "SOURCE:\n",
    "\n",
    "http://archive.ics.uci.edu/ml/datasets/Energy+efficiency\n",
    "\n",
    "The dataset was created by Angeliki Xifara (angxifara '@' gmail.com, Civil/Structural Engineer) \n",
    "and was processed by Athanasios Tsanas (tsanasthanasis '@' gmail.com, Oxford Centre for Industrial \n",
    "and Applied Mathematics, University of Oxford, UK).\n",
    "\n",
    "#######################################################################################################\n",
    "\n",
    "FEATURES INFORMATION:\n",
    "\n",
    "The dataset contains eight attributes (or features, denoted by X1...X8) and two responses \n",
    "(or outcomes, denoted by y1 and y2). The aim is to use the eight features to predict each \n",
    "of the two responses.\n",
    "\n",
    "Specifically:\n",
    "\n",
    "    X1 Relative Compactness\n",
    "    X2 Surface Area\n",
    "    X3 Wall Area\n",
    "    X4 Roof Area\n",
    "    X5 Overall Height\n",
    "    X6 Orientation\n",
    "    X7 Glazing Area\n",
    "    X8 Glazing Area Distribution\n",
    "    y1 Heating Load\n",
    "    y2 Cooling Load\n",
    "\n",
    "NOTE: \n",
    "\n",
    "    Feature names were changed to facilitate human readability.\n",
    "\n",
    "#######################################################################################################\n",
    "\n",
    "RELEVANT PAPERS:\n",
    "\n",
    "    A. Tsanas, A. Xifara: 'Accurate quantitative estimation of energy performance \n",
    "    of residential buildings using statistical machine learning tools', Energy and\n",
    "    Buildings, Vol. 49, pp. 560-567, 2012\n",
    "\n",
    "#######################################################################################################\n",
    "\n",
    "CITATIONS:\n",
    "\n",
    "    1. Tsanas, A. Xifara: 'Accurate quantitative estimation of energy performance of \n",
    "    residential buildings using statistical machine learning tools', Energy and Buildings, \n",
    "    Vol. 49, pp. 560-567, 2012.\n",
    "\n",
    "    For further details on the data analysis methodology:\n",
    "    \n",
    "    2. Tsanas, 'Accurate telemonitoring of Parkinson's disease symptom severity using nonlinear \n",
    "    speech signal processing and statistical machine learning', D.Phil. thesis, University of Oxford, 2012.\n",
    "    \n",
    "#######################################################################################################\n",
    "\n",
    "ADDITIONAL SOURCES:\n",
    "\n",
    "    1. Based upon this tutorial by Kevin Markham: https://github.com/justmarkham/DAT4/blob/master/notebooks/08_linear_regression.ipynb\n",
    "\"\"\""
   ]
  }
 ],
 "metadata": {
  "kernelspec": {
   "display_name": "Python 3",
   "language": "python",
   "name": "python3"
  },
  "language_info": {
   "codemirror_mode": {
    "name": "ipython",
    "version": 3
   },
   "file_extension": ".py",
   "mimetype": "text/x-python",
   "name": "python",
   "nbconvert_exporter": "python",
   "pygments_lexer": "ipython3",
   "version": "3.6.1"
  }
 },
 "nbformat": 4,
 "nbformat_minor": 2
}
